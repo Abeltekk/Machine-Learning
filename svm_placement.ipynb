{
 "cells": [
  {
   "cell_type": "code",
   "execution_count": 8,
   "metadata": {},
   "outputs": [
    {
     "name": "stdout",
     "output_type": "stream",
     "text": [
      "Model accuracy is equal to:  0.9545454545454546\n"
     ]
    }
   ],
   "source": [
    "import numpy as np\n",
    "import pandas as pd\n",
    "import sklearn\n",
    "from sklearn import svm\n",
    "from sklearn import preprocessing\n",
    "\n",
    "\n",
    "data = pd.read_csv(\"Placement.csv\")\n",
    "\n",
    "data = data[[ \"status\", \"mba_p\",\"etest_p\", \"specialisation\",\"gender\", \"ssc_p\", \"ssc_b\", \"hsc_p\", \"hsc_b\", \"hsc_s\",\n",
    "             \"degree_p\", \"degree_t\", \"workex\"]]\n",
    "# the data has everything but salary\n",
    "le = preprocessing.LabelEncoder() \n",
    "# to convert labels in to numberic forms or boolean variables so the machine can work with them\n",
    "data.gender = le.fit_transform(list(data[\"gender\"])) \n",
    "# changing the string labelings to integers, 0 and 1 in this case\n",
    "data.ssc_b = le.fit_transform(list(data[\"ssc_b\"]))\n",
    "data.hsc_b = le.fit_transform(list(data[\"hsc_b\"]))\n",
    "data.hsc_s = le.fit_transform(list(data[\"hsc_s\"]))\n",
    "data.degree_t = le.fit_transform(list(data[\"degree_t\"]))\n",
    "data.workex = le.fit_transform(list(data[\"workex\"]))\n",
    "data.specialisation = le.fit_transform(list(data[\"specialisation\"]))\n",
    "data.status = le.fit_transform(list(data[\"status\"]))\n",
    "\n",
    "\n",
    "predict = \"status\"\n",
    "X = np.array(data.drop([predict], 1))\n",
    "y = np.array(data[predict])\n",
    "\n",
    "x_train, x_test, y_train, y_test = sklearn.model_selection.train_test_split(X, y, test_size = 0.1)\n",
    "\n",
    "\n",
    "model = svm.SVC(kernel='linear')\n",
    "\n",
    "model.fit(x_train, y_train)\n",
    "acc = model.score(x_test, y_test)\n",
    "print(\"Model accuracy is equal to: \", acc)\n",
    "\n",
    "\n",
    "\n",
    "\n",
    "\n",
    "\n",
    "\n"
   ]
  },
  {
   "cell_type": "code",
   "execution_count": null,
   "metadata": {},
   "outputs": [],
   "source": []
  },
  {
   "cell_type": "code",
   "execution_count": null,
   "metadata": {},
   "outputs": [],
   "source": []
  }
 ],
 "metadata": {
  "kernelspec": {
   "display_name": "Python 3",
   "language": "python",
   "name": "python3"
  },
  "language_info": {
   "codemirror_mode": {
    "name": "ipython",
    "version": 3
   },
   "file_extension": ".py",
   "mimetype": "text/x-python",
   "name": "python",
   "nbconvert_exporter": "python",
   "pygments_lexer": "ipython3",
   "version": "3.8.3"
  }
 },
 "nbformat": 4,
 "nbformat_minor": 4
}
