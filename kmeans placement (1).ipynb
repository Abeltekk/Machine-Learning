{
 "cells": [
  {
   "cell_type": "code",
   "execution_count": 79,
   "metadata": {},
   "outputs": [
    {
     "name": "stdout",
     "output_type": "stream",
     "text": [
      "0      1\n",
      "1      1\n",
      "2      1\n",
      "3      1\n",
      "4      1\n",
      "      ..\n",
      "210    1\n",
      "211    1\n",
      "212    1\n",
      "213    0\n",
      "214    1\n",
      "Name: gender, Length: 215, dtype: int64\n"
     ]
    },
    {
     "data": {
      "image/png": "[encoded data removed]",
      "text/plain": [
       "<Figure size 432x288 with 1 Axes>"
      ]
     },
     "metadata": {
      "needs_background": "light"
     },
     "output_type": "display_data"
    }
   ],
   "source": [
    "import pandas\n",
    "import pylab as pl\n",
    "from sklearn.cluster import KMeans\n",
    "from sklearn.decomposition import PCA\n",
    "from sklearn import preprocessing\n",
    "\n",
    "le = preprocessing.LabelEncoder()\n",
    "\n",
    "variables = pandas.read_csv('Placement.csv')\n",
    "variables.gender = le.fit_transform(list(variables[\"gender\"]))\n",
    "print (variables.gender)\n",
    "X = variables[['gender']]\n",
    "Y = variables[['mba_p']]\n",
    "\n",
    "\n",
    "kmeans=KMeans(n_clusters=4)\n",
    "kmeansoutput=kmeans.fit(Y)\n",
    "y_km=kmeansoutput.labels_\n",
    "\n",
    "pl.scatter(Y, y_km)\n",
    "pl.xlabel('gender')\n",
    "pl.ylabel('degree')\n",
    "pl.title('2 Cluster K-Means')\n",
    "pl.show()\n",
    "\n",
    "\n"
   ]
  },
  {
   "cell_type": "code",
   "execution_count": null,
   "metadata": {},
   "outputs": [],
   "source": []
  },
  {
   "cell_type": "code",
   "execution_count": null,
   "metadata": {},
   "outputs": [],
   "source": []
  }
 ],
 "metadata": {
  "kernelspec": {
   "display_name": "Python 3",
   "language": "python",
   "name": "python3"
  },
  "language_info": {
   "codemirror_mode": {
    "name": "ipython",
    "version": 3
   },
   "file_extension": ".py",
   "mimetype": "text/x-python",
   "name": "python",
   "nbconvert_exporter": "python",
   "pygments_lexer": "ipython3",
   "version": "3.8.3"
  }
 },
 "nbformat": 4,
 "nbformat_minor": 4
}
