{
 "cells": [
  {
   "cell_type": "code",
   "execution_count": 3,
   "metadata": {},
   "outputs": [
    {
     "name": "stdout",
     "output_type": "stream",
     "text": [
      "0.6\n",
      "1 [11 11 12  1  0  0] 2\n",
      "2 [12 12 11  3  0  2] 2\n",
      "1 [12 13 13  2  0  0] 1\n",
      "1 [12 13 13  2  0  2] 2\n",
      "2 [ 9  9 10  2  0  0] 2\n",
      "1 [14 14 14  1  0  2] 1\n",
      "1 [12 11 11  2  0 11] 1\n",
      "1 [8 0 0 1 0 0] 2\n",
      "1 [14 12 12  2  1  0] 1\n",
      "1 [13 15 16  2  0  2] 1\n",
      "1 [13 14 15  2  0  0] 1\n",
      "1 [14 16 16  1  0  3] 1\n",
      "2 [8 8 8 2 0 2] 1\n",
      "2 [9 0 0 2 0 0] 1\n",
      "1 [11 10 10  3  0  4] 2\n",
      "1 [12 13 12  2  0 14] 2\n",
      "1 [ 9 10  9  3  0  9] 2\n",
      "1 [15 12 12  2  1  0] 1\n",
      "2 [10  9  0  2  0  0] 2\n",
      "2 [12 12 12  2  0  6] 2\n",
      "1 [10  9 11  2  0  4] 2\n",
      "2 [ 9  8  8  2  1 15] 2\n",
      "1 [13 13 13  2  0  2] 2\n",
      "2 [7 6 7 1 0 5] 1\n",
      "1 [15 16 18  3  0  2] 1\n",
      "1 [17 15 16  1  0  4] 1\n",
      "1 [10  8  9  1  0 10] 1\n",
      "2 [12 12 13  2  1 12] 2\n",
      "1 [ 6  9  8  1  2 14] 2\n",
      "2 [6 5 6 2 0 4] 1\n",
      "2 [7 7 9 2 2 4] 2\n",
      "2 [13 15 15  4  0  0] 1\n",
      "2 [11 11 10  3  0  0] 2\n",
      "2 [7 7 7 3 0 6] 2\n",
      "1 [12 10 10  2  1 18] 2\n",
      "1 [10 12 12  3  0  4] 2\n",
      "1 [16 15 16  3  0  9] 1\n",
      "2 [ 8  8 10  3  0  2] 2\n",
      "2 [10  8  9  2  0  0] 2\n",
      "1 [13 15 15  1  0  0] 1\n"
     ]
    }
   ],
   "source": [
    "import pandas as pd\n",
    "import numpy as np\n",
    "from sklearn import linear_model\n",
    "from sklearn.neighbors import KNeighborsClassifier\n",
    "import sklearn\n",
    "\n",
    "data = pd.read_csv(\"student-mat.csv\", sep=\";\")\n",
    "gender = {'M': 1,'F': 2} \n",
    "data[\"sex\"] = [gender[item] for item in data[\"sex\"]] \n",
    "\n",
    "data = data[[\"sex\", \"G1\", \"G2\", \"G3\", \"studytime\", \"failures\", \"absences\"]]\n",
    "\n",
    "predict = \"sex\"\n",
    "\n",
    "x = np.array(data.drop([predict], 1))\n",
    "y = np.array(data[predict])\n",
    "\n",
    "x_train, x_test, y_train, y_test = sklearn.model_selection.train_test_split(x, y, test_size = 0.1)\n",
    "\n",
    "classifier = KNeighborsClassifier(n_neighbors=5)\n",
    "classifier.fit(x_train, y_train)\n",
    "acc = classifier.score(x_test, y_test)\n",
    "\n",
    "\n",
    "print (acc)\n",
    "\n",
    "predictions = classifier.predict(x_test)\n",
    "\n",
    "for x in range(len(predictions)):\n",
    "    print(predictions[x], x_test[x], y_test[x])\n"
   ]
  },
  {
   "cell_type": "code",
   "execution_count": null,
   "metadata": {},
   "outputs": [],
   "source": []
  },
  {
   "cell_type": "code",
   "execution_count": null,
   "metadata": {},
   "outputs": [],
   "source": []
  },
  {
   "cell_type": "code",
   "execution_count": null,
   "metadata": {},
   "outputs": [],
   "source": []
  },
  {
   "cell_type": "code",
   "execution_count": null,
   "metadata": {},
   "outputs": [],
   "source": []
  },
  {
   "cell_type": "code",
   "execution_count": null,
   "metadata": {},
   "outputs": [],
   "source": []
  }
 ],
 "metadata": {
  "kernelspec": {
   "display_name": "Python 3",
   "language": "python",
   "name": "python3"
  },
  "language_info": {
   "codemirror_mode": {
    "name": "ipython",
    "version": 3
   },
   "file_extension": ".py",
   "mimetype": "text/x-python",
   "name": "python",
   "nbconvert_exporter": "python",
   "pygments_lexer": "ipython3",
   "version": "3.8.3"
  }
 },
 "nbformat": 4,
 "nbformat_minor": 4
}
